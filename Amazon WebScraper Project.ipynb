{
 "cells": [
  {
   "cell_type": "markdown",
   "id": "aea6adca-2d34-48a3-828f-e802ffbd68d0",
   "metadata": {},
   "source": [
    "# AMAZON WEB SCRAPER PROJECT"
   ]
  },
  {
   "cell_type": "code",
   "execution_count": 2,
   "id": "ad53170f-ae9a-40b5-b588-3b100ff91bbb",
   "metadata": {},
   "outputs": [],
   "source": [
    "# import libraries \n",
    "from bs4 import BeautifulSoup\n",
    "import requests\n",
    "import smtplib\n",
    "import time\n",
    "import datetime\n"
   ]
  },
  {
   "cell_type": "code",
   "execution_count": 3,
   "id": "6af25ab9-9776-4e60-8a10-f648e63bf609",
   "metadata": {},
   "outputs": [
    {
     "name": "stdout",
     "output_type": "stream",
     "text": [
      "Got Data Funny Business Data Analyst T-Shirt\n",
      "$19.99\n"
     ]
    }
   ],
   "source": [
    "# Connect to Website and pull in data\n",
    "URL = 'https://www.amazon.com/Funny-Data-Systems-Business-Analyst/dp/B07FNW9FGJ/ref=nav_signin?dchild=1&keywords=data%2Banalyst%2Btshirt&qid=1626655184&sr=8-3&customId=B0752XJYNL&th=1'\n",
    "headers = {\"User-Agent\": \"Mozilla/5.0 (Windows NT 10.0; Win64; x64) AppleWebKit/537.36 (KHTML, like Gecko) Chrome/78.0.3904.108 Safari/537.36\", \"Accept-Encoding\":\"gzip, deflate\", \"Accept\":\"text/html,application/xhtml+xml,application/xml;q=0.9,*/*;q=0.8\", \"DNT\":\"1\",\"Connection\":\"close\", \"Upgrade-Insecure-Requests\":\"1\"}\n",
    "page = requests.get(URL)\n",
    "\n",
    "Soup1 = BeautifulSoup(page.content, \"lxml\")\n",
    "\n",
    "Soup2 = BeautifulSoup(Soup1.prettify(), \"lxml\")\n",
    "\n",
    "title = Soup2.find(id=\"productTitle\").get_text(strip=True)\n",
    "\n",
    "\n",
    "price_symbol = Soup2.find(class_='a-price-symbol').get_text(strip = True)\n",
    "price_whole = Soup2.find(class_='a-price-whole').get_text(strip = True)\n",
    "price_fraction = Soup2.find(class_='a-price-fraction').get_text(strip = True)\n",
    "price = f'{price_symbol}{price_whole}{price_fraction}'\n",
    "\n",
    "print(title)\n",
    "\n",
    "print(price)"
   ]
  },
  {
   "cell_type": "code",
   "execution_count": null,
   "id": "eb2ba82a-340f-43c2-ac26-fdf35a6dbf6b",
   "metadata": {},
   "outputs": [],
   "source": [
    "# Create a Timestamp for your output to track when data was collected\n",
    "import datetime\n",
    "\n",
    "today = datetime.date.today()\n",
    "\n",
    "print(today)"
   ]
  },
  {
   "cell_type": "code",
   "execution_count": 13,
   "id": "805e1cdc-d1b4-42a3-8e58-1dce927e471d",
   "metadata": {},
   "outputs": [],
   "source": [
    "# Create CSV and write headers and data into the file\n",
    "import csv\n",
    "\n",
    "header = ['Title', 'Price', 'Date']\n",
    "data = [title, price, today]\n",
    "\n",
    "with open('AmazonWebScraperDataset.csv', 'w', newline='', encoding='UTF8') as f:\n",
    "    writer = csv.writer(f)\n",
    "    writer.writerow(header)\n",
    "    writer.writerow(data)"
   ]
  },
  {
   "cell_type": "code",
   "execution_count": null,
   "id": "63195c1b-9f18-4774-8a78-8624d58a06cc",
   "metadata": {},
   "outputs": [],
   "source": [
    "import pandas as pd\n",
    "df = pd.read_csv(r'C:\\Users\\iamaf\\AppData\\Local\\Programs\\Python\\Python312\\AmazonWebScraperDataset.csv')\n",
    "df"
   ]
  },
  {
   "cell_type": "code",
   "execution_count": 14,
   "id": "10ad63a0-73a6-4656-9f6a-b41891a88870",
   "metadata": {},
   "outputs": [],
   "source": [
    "#Now we are appending data to the csv\n",
    "with open('AmazonWebScraperDataset.csv', 'a+', newline='', encoding='UTF8') as f:\n",
    "    writer = csv.writer(f)\n",
    "    writer.writerow(data)"
   ]
  },
  {
   "cell_type": "code",
   "execution_count": 24,
   "id": "d059f5ba-e157-41b0-87cd-4b50bba0f725",
   "metadata": {},
   "outputs": [],
   "source": [
    "#Combine all of the above code into one function\n",
    "\n",
    "\n",
    "def check_price():\n",
    "    URL = 'https://www.amazon.com/Funny-Data-Systems-Business-Analyst/dp/B07FNW9FGJ/ref=nav_signin?dchild=1&keywords=data%2Banalyst%2Btshirt&qid=1626655184&sr=8-3&customId=B0752XJYNL&th=1'\n",
    "    headers = {\"User-Agent\": \"Mozilla/5.0 (Windows NT 10.0; Win64; x64) AppleWebKit/537.36 (KHTML, like Gecko) Chrome/78.0.3904.108 Safari/537.36\", \"Accept-Encoding\":\"gzip, deflate\", \"Accept\":\"text/html,application/xhtml+xml,application/xml;q=0.9,*/*;q=0.8\", \"DNT\":\"1\",\"Connection\":\"close\", \"Upgrade-Insecure-Requests\":\"1\"}\n",
    "    page = requests.get(URL)\n",
    "\n",
    "    from lxml import etree  # For XML and HTML parsing\n",
    "    from lxml import html   # For working with HTML documents\n",
    "\n",
    "    Soup1 = BeautifulSoup(page.content, \"lxml\")\n",
    "\n",
    "    Soup2 = BeautifulSoup(Soup1.prettify(), \"lxml\")\n",
    "\n",
    "\n",
    "\n",
    "    title = Soup2.find(id=\"productTitle\").get_text(strip=True)\n",
    "    price_symbol = Soup2.find(class_='a-price-symbol').get_text(strip = True)\n",
    "    price_whole = Soup2.find(class_='a-price-whole').get_text(strip = True)\n",
    "    price_fraction = Soup2.find(class_='a-price-fraction').get_text(strip = True)\n",
    "    price = f'{price_symbol}{price_whole}{price_fraction}'\n",
    "\n",
    "\n",
    "    import datetime\n",
    "\n",
    "    today = datetime.date.today()\n",
    "\n",
    "\n",
    "    import csv\n",
    "\n",
    "    header = ['Title', 'Price', 'Date']\n",
    "    data = [title, price, today]\n",
    "\n",
    "    with open('AmazonWebScraperDataset.csv', 'a+', newline='', encoding='UTF8') as f:\n",
    "        writer = csv.writer(f)\n",
    "        writer.writerow(data)"
   ]
  },
  {
   "cell_type": "code",
   "execution_count": null,
   "id": "b8a8b625-c93c-43b0-aff1-cff07f030feb",
   "metadata": {},
   "outputs": [],
   "source": [
    "# Runs check_price after a set time and inputs data into your CSV\n",
    "while(True):\n",
    "    check_price()\n",
    "    time.sleep(86400)"
   ]
  },
  {
   "cell_type": "code",
   "execution_count": null,
   "id": "2d37f334-fbb5-43a4-a602-d806e9f51c44",
   "metadata": {},
   "outputs": [],
   "source": [
    "import pandas as pd\n",
    "df = pd.read_csv(r'C:\\Users\\iamaf\\AppData\\Local\\Programs\\Python\\Python312\\AmazonWebScraperDataset.csv')\n",
    "df"
   ]
  }
 ],
 "metadata": {
  "kernelspec": {
   "display_name": "Python 3 (ipykernel)",
   "language": "python",
   "name": "python3"
  },
  "language_info": {
   "codemirror_mode": {
    "name": "ipython",
    "version": 3
   },
   "file_extension": ".py",
   "mimetype": "text/x-python",
   "name": "python",
   "nbconvert_exporter": "python",
   "pygments_lexer": "ipython3",
   "version": "3.12.3"
  }
 },
 "nbformat": 4,
 "nbformat_minor": 5
}
